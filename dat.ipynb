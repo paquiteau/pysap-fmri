{
 "cells": [
  {
   "cell_type": "code",
   "execution_count": 1,
   "id": "b631579c",
   "metadata": {},
   "outputs": [
    {
     "name": "stderr",
     "output_type": "stream",
     "text": [
      "/home/pc266769/.pyenv/versions/3.6.13/envs/fmri/lib/python3.6/site-packages/mri/operators/fourier/non_cartesian.py:27: UserWarning: pynfft python package has not been found. If needed use the master release.\n",
      "  warnings.warn(\"pynfft python package has not been found. If needed use \"\n"
     ]
    }
   ],
   "source": [
    "from fmri.acquisitions import SparklingAcquisition\n",
    "from fmri.reconstructors.base import SequentialFMRIReconstructor\n",
    "from mri.operators import WaveletN \n",
    "from modopt.opt.linear import Identity\n",
    "from modopt.opt.proximity import SparseThreshold\n"
   ]
  },
  {
   "cell_type": "code",
   "execution_count": 2,
   "id": "e2fdf5df",
   "metadata": {},
   "outputs": [],
   "source": [
    "data_file = \"/volatile/pierre-antoine/optimed/meas_MID36_2D_Sparkling_1mmiso0_3s_FID3362.dat\"\n",
    "bin_file = \"/volatile/pierre-antoine/optimed/dim2_i_RadialIO_P0.75_N192x192_FOV0.192x0.192_Nc6_Ns2688_c30_d2__D7M9Y2021T160.bin\""
   ]
  },
  {
   "cell_type": "code",
   "execution_count": 3,
   "id": "f85430e2",
   "metadata": {},
   "outputs": [
    {
     "name": "stdout",
     "output_type": "stream",
     "text": [
      "pymapVBVD version 0.4.3\n",
      "Software version: VB\n"
     ]
    },
    {
     "data": {
      "application/vnd.jupyter.widget-view+json": {
       "model_id": "a5efa1859af041b1a6b214cadb50a9e6",
       "version_major": 2,
       "version_minor": 0
      },
      "text/plain": [
       "Scan 1/1, read all mdhs:   0%|          | 0.00/15.4G [00:00<?, ?B/s]"
      ]
     },
     "metadata": {},
     "output_type": "display_data"
    },
    {
     "name": "stdout",
     "output_type": "stream",
     "text": [
      ".dat file red\n"
     ]
    },
    {
     "name": "stderr",
     "output_type": "stream",
     "text": [
      "/volatile/pierre-antoine/gits/nsp/pysap-fmri/fmri/acquisitions/non_cartesian.py:95: UserWarning: Failed to load the smaps, using self calibration instead\n",
      "  warnings.warn(\"Failed to load the smaps, using self calibration instead\")\n"
     ]
    },
    {
     "data": {
      "application/vnd.jupyter.widget-view+json": {
       "model_id": "",
       "version_major": 2,
       "version_minor": 0
      },
      "text/plain": [
       "read data:   0%|          | 0/12 [00:00<?, ?it/s]"
      ]
     },
     "metadata": {},
     "output_type": "display_data"
    },
    {
     "name": "stdout",
     "output_type": "stream",
     "text": [
      "kspace_data imported\n",
      "[192 192] (32, 161280) (161280, 2) (2,)\n"
     ]
    },
    {
     "name": "stderr",
     "output_type": "stream",
     "text": [
      "[Parallel(n_jobs=16)]: Using backend LokyBackend with 16 concurrent workers.\n",
      "[Parallel(n_jobs=16)]: Done  32 out of  32 | elapsed:    2.9s finished\n"
     ]
    }
   ],
   "source": [
    "acq = SparklingAcquisition(data_file,bin_file,frame_slicer=slice(0,2))"
   ]
  },
  {
   "cell_type": "code",
   "execution_count": 4,
   "id": "651b4c19",
   "metadata": {},
   "outputs": [
    {
     "data": {
      "text/plain": [
       "((2, 32, 80640), (80640, 2), (32, 192, 192))"
      ]
     },
     "execution_count": 4,
     "metadata": {},
     "output_type": "execute_result"
    }
   ],
   "source": [
    "acq.kspace_data.shape, acq.kspace_loc.shape, acq.smaps.shape"
   ]
  },
  {
   "cell_type": "code",
   "execution_count": null,
   "id": "1d0d1568",
   "metadata": {},
   "outputs": [],
   "source": [
    "fourier_op = acq.get_fourier_operator(implementation='gpuNUFFT')\n",
    "fourier_op.shape, fourier_op.samples, fourier_op.n_coils\n",
    "mu=1e-8\n",
    "regularizer_op = SparseThreshold(Identity(), mu, thresh_type=\"soft\")\n",
    "\n",
    "linear_op = WaveletN(wavelet_name='sym8',\n",
    "                    nb_scale=3,\n",
    "                    dim=2,\n",
    "                    padding='periodization')\n"
   ]
  },
  {
   "cell_type": "code",
   "execution_count": null,
   "id": "d88525ea",
   "metadata": {},
   "outputs": [],
   "source": [
    "rec = SequentialFMRIReconstructor(fourier_op, linear_op,regularizer_op,Smaps=acq.smaps,verbose=50,optimizer='pogm')"
   ]
  },
  {
   "cell_type": "code",
   "execution_count": null,
   "id": "0cba3d14",
   "metadata": {},
   "outputs": [],
   "source": [
    "res = rec.reconstruct(acq.kspace_data)"
   ]
  },
  {
   "cell_type": "code",
   "execution_count": null,
   "id": "59428991",
   "metadata": {},
   "outputs": [],
   "source": [
    "import matplotlib.pyplot as plt\n",
    "\n",
    "for img in res:\n",
    "    plt.figure()\n",
    "    plt.imshow(abs(img))"
   ]
  },
  {
   "cell_type": "code",
   "execution_count": null,
   "id": "c46c37de",
   "metadata": {},
   "outputs": [],
   "source": []
  }
 ],
 "metadata": {
  "kernelspec": {
   "display_name": "Python 3",
   "language": "python",
   "name": "python3"
  },
  "language_info": {
   "codemirror_mode": {
    "name": "ipython",
    "version": 3
   },
   "file_extension": ".py",
   "mimetype": "text/x-python",
   "name": "python",
   "nbconvert_exporter": "python",
   "pygments_lexer": "ipython3",
   "version": "3.6.13"
  }
 },
 "nbformat": 4,
 "nbformat_minor": 5
}
