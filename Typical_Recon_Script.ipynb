{
 "cells": [
  {
   "cell_type": "code",
   "execution_count": null,
   "id": "a4179291",
   "metadata": {},
   "outputs": [],
   "source": [
    "obs_file =\"/neurospin/lrmn/people/Zaineb_Amor/DATAOctober2021/12192021_InVivo_rd210175/meas_MID190_3D_Snorekling_1_2mmiso_1_638s_176rep_Clock_FID5960.dat\"\n",
    "#traj_file = \"/neurospin/lrmn/people/Zaineb_Amor/DATASeptembre2021/09092021_Traj_Snork_Utilisée_InVivo/dim3_i_RadialIO_P0.75_N192x192x128_FOV0.192x0.192x0.128_Nc8_Ns2688_c25_d2__D9M9Y2021T1017_reproject.bin\"\n",
    "traj_file = \"/neurospin/lrmn/people/Zaineb_Amor/DATAOctober2021/trajs_0310/dim3_i_RadialIO_P0.75_N160x160x104_FOV0.192x0.192x0.1248_Nc13_Ns2176_c25_d2__D4M10Y2021T1016_reproject.bin\" \n",
    "smaps_file =\"/neurospin/lrmn/people/Zaineb_Amor/DATAOctober2021/12192021_InVivo_rd210175/Smaps/Smaps1_2mm.npy\""
   ]
  },
  {
   "cell_type": "code",
   "execution_count": null,
   "id": "f290c912",
   "metadata": {},
   "outputs": [],
   "source": [
    "import pysap\n",
    "from mri.operators import Stacked3DNFFT, NonCartesianFFT, WaveletN, FFT, OWL\n",
    "from mri.operators.utils import normalize_frequency_locations\n",
    "from mri.reconstructors import SelfCalibrationReconstructor,CalibrationlessReconstructor\n",
    "from mri.operators.fourier.utils import estimate_density_compensation\n",
    "from mri.reconstructors.utils.extract_sensitivity_maps import get_Smaps\n",
    "from modopt.math.metrics import psnr, nrmse, ssim\n",
    "import pydicom\n",
    "import os\n",
    "import numpy as np\n",
    "from twixreader import Twix\n",
    "import pickle as pkl\n",
    "import argparse\n",
    "import datetime\n",
    "from datetime import datetime\n",
    "from modopt.opt.linear import Identity\n",
    "from modopt.opt.proximity import SparseThreshold, GroupLASSO\n",
    "from sparkling.utils.gradient import get_kspace_loc_from_gradfile\n",
    "from sparkling.utils.shots import convert_NCxNSxD_to_NCNSxD, convert_NCNSxD_to_NCxNSxD\n",
    "import numpy as np\n",
    "import re\n",
    "import sys\n",
    "import mapvbvd"
   ]
  },
  {
   "cell_type": "code",
   "execution_count": null,
   "id": "2d191792",
   "metadata": {},
   "outputs": [],
   "source": [
    "def get_raw_data(filename):\n",
    "    # Function that reads a SIEMENS .dat file and returns a k space data\n",
    "    data = Twix(filename)[-1]['ima'].raw()\n",
    "    data = np.swapaxes(data, 1, 2)\n",
    "    data = np.reshape(data, (data.shape[0] * data.shape[1], data.shape[2]))\n",
    "    return data.T"
   ]
  },
  {
   "cell_type": "code",
   "execution_count": null,
   "id": "624f74b3",
   "metadata": {},
   "outputs": [],
   "source": [
    "def get_samples(filename, dwell_t, num_adc_samples, kmax):\n",
    "    sample_locations = convert_NCxNSxD_to_NCNSxD(get_kspace_loc_from_gradfile(filename, dwell_t, num_adc_samples)[0])\n",
    "    sample_locations = normalize_frequency_locations(sample_locations, Kmax=kmax)\n",
    "    return sample_locations"
   ]
  },
  {
   "cell_type": "code",
   "execution_count": null,
   "id": "f43f8c78",
   "metadata": {},
   "outputs": [],
   "source": [
    "def add_phase_kspace(kspace_data, kspace_loc, shifts={}):\n",
    "    if shifts == {}:\n",
    "        shifts = (0,) * kspace_loc.shape[1]\n",
    "    if len(shifts) != kspace_loc.shape[1]:\n",
    "        raise ValueError(\"Dimension mismatch between shift and kspace locations! \"\n",
    "                         \"Ensure that shifts are right\")\n",
    "    phi = np.zeros_like(kspace_data)\n",
    "    for i in range(kspace_loc.shape[1]):\n",
    "        phi += kspace_loc[:, i] * shifts[i]\n",
    "    phase = np.exp(-2 * np.pi * 1j * phi)\n",
    "    return kspace_data * phase"
   ]
  },
  {
   "cell_type": "code",
   "execution_count": null,
   "id": "b3ea4960",
   "metadata": {},
   "outputs": [],
   "source": [
    "#set reconstruction variables \n",
    "M = [160, 160,104]\n",
    "FOV = [0.192, 0.192, 0.1248]\n",
    "Ns = 2176\n",
    "OS = 5\n",
    "#get the data samples and the kspace samples\n",
    "kspace_loc = []\n",
    "kspace_data = []\n",
    "kspace_data = get_raw_data(obs_file)\n",
    "#kspace_data_twixObj = mapvbvd.mapVBVD(obs_file)\n",
    "#kspace_data_twixObj.search_header_for_keys('adFree')\n",
    "kspace_loc= get_samples(traj_file, 0.01/OS, Ns*OS,kmax=(M[0]/(2*FOV[0]), M[1]/(2*FOV[1]), M[2]/(2*FOV[2])))"
   ]
  },
  {
   "cell_type": "code",
   "execution_count": null,
   "id": "a27ac03b",
   "metadata": {},
   "outputs": [],
   "source": [
    "shifts_mm = (-25.4*0.001, 0.0, -13.1*0.001)\n",
    "shifts_slice = ((shifts_mm[0]*M[0])/FOV[0],(shifts_mm[1]*M[1])/FOV[1],(shifts_mm[2]*M[2])/FOV[2])\n",
    "kspace_data.shape, kspace_loc.shape"
   ]
  },
  {
   "cell_type": "code",
   "execution_count": null,
   "id": "17a8f2a2",
   "metadata": {},
   "outputs": [],
   "source": [
    "kspace_data1 =  add_phase_kspace(kspace_data[:,10*424320:11*424320], kspace_loc, shifts=shifts_slice)\n",
    "del(kspace_data)"
   ]
  },
  {
   "cell_type": "code",
   "execution_count": null,
   "id": "8293c990",
   "metadata": {},
   "outputs": [],
   "source": [
    "smaps = np.load(smaps_file,allow_pickle=True, fix_imports=True)\n",
    "mu = 1e-8\n",
    "niter = 15"
   ]
  },
  {
   "cell_type": "code",
   "execution_count": null,
   "id": "5974c2a9",
   "metadata": {},
   "outputs": [],
   "source": [
    "density_comp = estimate_density_compensation(kspace_loc, M)\n",
    "\n",
    "fourier_op = NonCartesianFFT(samples=kspace_loc,\n",
    "                                     shape=M,\n",
    "                                     implementation='gpuNUFFT',\n",
    "                                     density_comp=density_comp,\n",
    "                                     n_coils=32 )\n",
    "regularizer_op = SparseThreshold(Identity(), mu, thresh_type=\"soft\")\n",
    "\n",
    "linear_op = WaveletN(wavelet_name='sym8',\n",
    "                    nb_scale=3,\n",
    "                    dim=3,\n",
    "                    padding='periodization')\n",
    "\n",
    "reconstructor = SelfCalibrationReconstructor(\n",
    "                fourier_op=fourier_op,\n",
    "                linear_op=linear_op,\n",
    "                regularizer_op=regularizer_op,\n",
    "                gradient_formulation='synthesis',\n",
    "                Smaps=smaps,\n",
    "                n_jobs=1,\n",
    "                verbose=21\n",
    "            )\n",
    "\n",
    "reconst_data1, costs, metrics = reconstructor.reconstruct(kspace_data=kspace_data1,\n",
    "                                                                 optimization_alg='pogm', num_iterations=niter,\n",
    "                                                                 recompute_smaps=False,\n",
    "                                                                 #cost_op_kwargs={'cost_interval': 1}\n",
    "                                                         )"
   ]
  },
  {
   "cell_type": "code",
   "execution_count": null,
   "id": "569e573d",
   "metadata": {},
   "outputs": [],
   "source": [
    "import matplotlib.pyplot as plt \n",
    "#plt.imshow(abs(np.roll(reconst_data1[:,:,64], 30)), cmap='gray')\n",
    "plt.imshow(abs(reconst_data1[:,:,64]), cmap='gray')\n",
    "np.save(\"/neurospin/lrmn/people/Zaineb_Amor/DATAOctober2021/12192021_InVivo_rd210175/10_8_1_2mm\", reconst_data1)"
   ]
  },
  {
   "cell_type": "code",
   "execution_count": null,
   "id": "ff3cbdfe",
   "metadata": {},
   "outputs": [],
   "source": [
    "_3 = np.load(\"/neurospin/lrmn/people/Zaineb_Amor/DATAOctober2021/exvivo_data_0410/3x13.npy\")\n",
    "_13 = np.load(\"/neurospin/lrmn/people/Zaineb_Amor/DATAOctober2021/exvivo_data_0410/13x3.npy\")\n",
    "#_7 = np.load(\"\")"
   ]
  },
  {
   "cell_type": "code",
   "execution_count": null,
   "id": "a2a7da33",
   "metadata": {},
   "outputs": [],
   "source": [
    "import nibabel as nib\n",
    "vol_epi = nib.load(\"/neurospin/lrmn/people/Zaineb_Amor/DATAOctober2021/exvivo_data_0410/EPI0410MAG_EPI3D_1_2mmiso_tr1_638s_1rep_PA_20211004194344_4.nii.gz\")\n",
    "vol_epi = vol_epi.get_fdata()\n",
    "vol_epi.shape"
   ]
  },
  {
   "cell_type": "code",
   "execution_count": null,
   "id": "c8685785",
   "metadata": {},
   "outputs": [],
   "source": [
    "import numpy as np \n",
    "import matplotlib.pyplot as plt\n",
    "plt.figure(figsize=(20,20))\n",
    "plt.subplot(1,3,1)\n",
    "plt.imshow(abs(_3[:,:,45]), cmap=\"gray\")\n",
    "plt.subplot(1,3,2)\n",
    "plt.imshow(abs(_13[:,:,45]), cmap=\"gray\")\n",
    "plt.subplot(1,3,3)\n",
    "plt.imshow(abs(vol_epi[:,73,:]), cmap=\"gray\")"
   ]
  },
  {
   "cell_type": "code",
   "execution_count": null,
   "id": "d4a82a9c",
   "metadata": {},
   "outputs": [],
   "source": [
    "plt.figure(figsize=(20,20))\n",
    "plt.subplot(1,3,1)\n",
    "plt.imshow(abs(_3[:,40,:]), cmap=\"gray\")\n",
    "plt.subplot(1,3,2)\n",
    "plt.imshow(abs(_13[:,40,:]), cmap=\"gray\")\n",
    "plt.subplot(1,3,3)\n",
    "plt.imshow(abs(vol_epi[:,:,50]), cmap=\"gray\")"
   ]
  },
  {
   "cell_type": "code",
   "execution_count": null,
   "id": "a052c2e9",
   "metadata": {},
   "outputs": [],
   "source": []
  },
  {
   "cell_type": "code",
   "execution_count": null,
   "id": "e5fb0a5f",
   "metadata": {},
   "outputs": [],
   "source": []
  },
  {
   "cell_type": "code",
   "execution_count": null,
   "id": "2ad655df",
   "metadata": {},
   "outputs": [],
   "source": []
  }
 ],
 "metadata": {
  "kernelspec": {
   "display_name": "Python 3",
   "language": "python",
   "name": "python3"
  },
  "language_info": {
   "codemirror_mode": {
    "name": "ipython",
    "version": 3
   },
   "file_extension": ".py",
   "mimetype": "text/x-python",
   "name": "python",
   "nbconvert_exporter": "python",
   "pygments_lexer": "ipython3",
   "version": "3.9.5"
  }
 },
 "nbformat": 4,
 "nbformat_minor": 5
}
