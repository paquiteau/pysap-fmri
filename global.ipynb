{
 "cells": [
  {
   "cell_type": "code",
   "execution_count": 1,
   "id": "e2382ec7-ad20-4798-9b09-8d9cd971e9ab",
   "metadata": {},
   "outputs": [],
   "source": [
    "from fmri.acquisitions import SparklingAcquisition\n",
    "from fmri.operators.fourier import SpaceFourier\n",
    "import numpy as np\n",
    "import matplotlib.pyplot as plt\n",
    "\n",
    "\n",
    "from fmri.reconstructors.full import LowRankPlusSparseFMRIReconstructor"
   ]
  },
  {
   "cell_type": "code",
   "execution_count": 2,
   "id": "3f1d68fe-c585-4962-976a-1a580ae80e43",
   "metadata": {},
   "outputs": [
    {
     "name": "stdout",
     "output_type": "stream",
     "text": [
      "pymapVBVD version 0.4.3\n",
      "Software version: VB\n"
     ]
    },
    {
     "data": {
      "application/vnd.jupyter.widget-view+json": {
       "model_id": "27fb3f819a3540ceb0d5cc147c6d7e5f",
       "version_major": 2,
       "version_minor": 0
      },
      "text/plain": [
       "Scan 1/1, read all mdhs:   0%|          | 0.00/15.4G [00:00<?, ?B/s]"
      ]
     },
     "metadata": {},
     "output_type": "display_data"
    },
    {
     "data": {
      "application/vnd.jupyter.widget-view+json": {
       "model_id": "",
       "version_major": 2,
       "version_minor": 0
      },
      "text/plain": [
       "read data:   0%|          | 0/600 [00:00<?, ?it/s]"
      ]
     },
     "metadata": {},
     "output_type": "display_data"
    },
    {
     "name": "stderr",
     "output_type": "stream",
     "text": [
      "/home/pc266769/.pyenv/versions/3.6.13/envs/fmri/lib/python3.6/site-packages/mri/operators/fourier/utils.py:106: UserWarning: Frequency equal to 0.5 will be put in -0.5\n",
      "  warnings.warn(\"Frequency equal to 0.5 will be put in -0.5\")\n"
     ]
    },
    {
     "data": {
      "text/plain": [
       "((100, 32, 80640), (80640, 2))"
      ]
     },
     "execution_count": 2,
     "metadata": {},
     "output_type": "execute_result"
    }
   ],
   "source": [
    "data_file = \"/volatile/pierre-antoine/optimed/meas_MID36_2D_Sparkling_1mmiso0_3s_FID3362.dat\"\n",
    "bin_file = \"/volatile/pierre-antoine/optimed/dim2_i_RadialIO_P0.75_N192x192_FOV0.192x0.192_Nc6_Ns2688_c30_d2__D7M9Y2021T160.bin\"\n",
    "shifts = np.array((-22,0))\n",
    "\n",
    "acq = SparklingAcquisition(data_file,bin_file,\n",
    "                           frame_slicer=slice(0,100),\n",
    "                           shifts=shifts,\n",
    "                           )\n",
    "\n",
    "acq.kspace_data.shape, acq.kspace_loc.shape"
   ]
  },
  {
   "cell_type": "code",
   "execution_count": 3,
   "id": "6d7d6496-f8b5-42cc-a163-e7e9d912b3a5",
   "metadata": {},
   "outputs": [
    {
     "name": "stderr",
     "output_type": "stream",
     "text": [
      "[Parallel(n_jobs=32)]: Using backend LokyBackend with 32 concurrent workers.\n",
      "[Parallel(n_jobs=32)]: Done   2 out of  32 | elapsed:    4.4s remaining:  1.1min\n",
      "[Parallel(n_jobs=32)]: Done  32 out of  32 | elapsed:    4.9s finished\n"
     ]
    }
   ],
   "source": [
    "density_comp =  acq.density_comp\n",
    "smaps = acq.get_smaps()"
   ]
  },
  {
   "cell_type": "code",
   "execution_count": 14,
   "id": "1e4e8489-f3bb-439d-87a9-afe8f9c06c65",
   "metadata": {},
   "outputs": [
    {
     "name": "stdout",
     "output_type": "stream",
     "text": [
      "[100  32 192 192]\n",
      "[192 192]\n"
     ]
    }
   ],
   "source": [
    "fourier_op = SpaceFourier(acq.img_shape, acq.n_coils, acq.n_frames, samples=acq.kspace_loc, fourier_type=\"gpuNUFFT\", density_comp=density_comp, )\n",
    "\n",
    "print(fourier_op.shape)\n",
    "print(fourier_op.img_shape)\n",
    "\n",
    "rec = LowRankPlusSparseFMRIReconstructor(fourier_op, lowrank_thresh=1e-3, sparse_thresh=1e-6, Smaps=smaps)"
   ]
  },
  {
   "cell_type": "code",
   "execution_count": null,
   "id": "3069d5bd-46c7-4e57-8c39-6ab6725ece3b",
   "metadata": {},
   "outputs": [
    {
     "name": "stderr",
     "output_type": "stream",
     "text": [
      " 10%|█         | 3/30 [01:14<11:08, 24.78s/it]"
     ]
    }
   ],
   "source": [
    "M,L,S = rec.reconstruct(acq.kspace_data)"
   ]
  },
  {
   "cell_type": "code",
   "execution_count": null,
   "id": "452833d4-7ff6-411b-974f-37b01aed9aef",
   "metadata": {},
   "outputs": [],
   "source": [
    "plt.rcParams['figure.figsize'] = [30,10]\n",
    "fig, axs = plt.subplots(3,10)\n",
    "for m,l,s,ax in zip(M[:10,:],L[:10,:],S[:10,:],axs.transpose()):\n",
    "    ax[0].imshow(abs(m))\n",
    "    ax[1].imshow(abs(l))\n",
    "    ax[2].imshow(abs(s))\n",
    "    \n",
    "[ax.xaxis.set_ticks([]) for ax in axs.ravel()]\n",
    "[ax.yaxis.set_ticks([]) for ax in axs.ravel()]\n",
    "\n",
    "\n",
    "axs[0,0].set_ylabel('M')\n",
    "axs[1,0].set_ylabel('L')\n",
    "axs[2,0].set_ylabel('S')\n",
    "plt.show()"
   ]
  },
  {
   "cell_type": "code",
   "execution_count": null,
   "id": "e963bdfa-a243-428e-a90c-47e04c138b93",
   "metadata": {},
   "outputs": [],
   "source": [
    "plt.rcParams['figure.figsize'] = [30, 10]\n",
    "plt.figure()\n",
    "Mc = M[:, 88:104,88:104]\n",
    "\n",
    "cas=np.reshape(Mc, (Mc.shape[0],np.prod(Mc.shape[1:])))\n",
    "plt.imshow(abs(cas))\n",
    "plt.colorbar()\n",
    "\n",
    "plt.figure()\n",
    "Mc = L[:, 88:104,88:104]\n",
    "\n",
    "cas=np.reshape(Mc, (Mc.shape[0],np.prod(Mc.shape[1:])))\n",
    "print(cas.shape)\n",
    "plt.imshow(abs(cas))\n",
    "plt.colorbar()\n",
    "\n",
    "plt.figure()\n",
    "Mc = S[:, 88:104,88:104]\n",
    "cas=np.reshape(Mc, (Mc.shape[0],np.prod(Mc.shape[1:])))\n",
    "cas[cas == 0] = np.NaN\n",
    "plt.imshow(abs(cas))\n",
    "plt.colorbar()"
   ]
  },
  {
   "cell_type": "code",
   "execution_count": null,
   "id": "fac31b1c-33cc-4f66-90a9-ed6d257dd0d7",
   "metadata": {},
   "outputs": [],
   "source": []
  }
 ],
 "metadata": {
  "kernelspec": {
   "display_name": "Python 3",
   "language": "python",
   "name": "python3"
  },
  "language_info": {
   "codemirror_mode": {
    "name": "ipython",
    "version": 3
   },
   "file_extension": ".py",
   "mimetype": "text/x-python",
   "name": "python",
   "nbconvert_exporter": "python",
   "pygments_lexer": "ipython3",
   "version": "3.6.13"
  }
 },
 "nbformat": 4,
 "nbformat_minor": 5
}
